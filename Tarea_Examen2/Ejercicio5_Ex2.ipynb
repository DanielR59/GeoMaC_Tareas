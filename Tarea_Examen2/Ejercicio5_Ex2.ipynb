{
 "cells": [
  {
   "cell_type": "markdown",
   "metadata": {},
   "source": [
    "# Ecuacion de onda\n",
    "__Rosas Avila José Daniel__\n",
    "\n",
    "$$\n",
    "\\frac{\\partial^2 u}{\\partial t^2}(x,t)-\\alpha^2 \\frac{\\partial^2 u}{\\partial x^2}(x,t)  = 0 \\quad 0 < x < L, t> 0\n",
    "$$\n",
    "\n",
    "_Condiciones de frontera_\n",
    "\n",
    "$$\n",
    "u(0,t) = u(L,t) = 0 \\quad para \\quad t > 0\n",
    "$$\n",
    "_Condiciones iniciales_\n",
    "\n",
    "$$\n",
    "    u(x,0) = f(x)\\quad y\\quad \\frac{\\partial u}{\\partial t}(x,0) = g(x), \\quad para \\quad 0 \\leq x \\leq L\n",
    "$$"
   ]
  },
  {
   "cell_type": "code",
   "execution_count": 4,
   "metadata": {},
   "outputs": [],
   "source": [
    "import numpy as np\n",
    "import matplotlib.pyplot as plt"
   ]
  },
  {
   "cell_type": "code",
   "execution_count": 16,
   "metadata": {},
   "outputs": [],
   "source": [
    "#Espacial\n",
    "a=0\n",
    "b=1\n",
    "L=b-a\n",
    "Nx=20\n",
    "hx=L/(Nx+1)\n",
    "#Temporal\n",
    "Tmax=1\n",
    "ht=0.05\n",
    "Nt=int(Tmax/ht)\n",
    "\n",
    "#Dominios\n",
    "x= np.linspace(a,b,Nx+2)\n",
    "t= np.linspace(0,Tmax,Nt)\n",
    "#Parametros\n",
    "α = 2\n",
    "λ = α *ht/hx"
   ]
  },
  {
   "cell_type": "code",
   "execution_count": 17,
   "metadata": {},
   "outputs": [],
   "source": [
    "#Funciones\n",
    "f = lambda x : np.sin(np.pi*x)\n",
    "g = lambda x : 0\n"
   ]
  },
  {
   "cell_type": "code",
   "execution_count": 19,
   "metadata": {},
   "outputs": [],
   "source": [
    "# Condiciones iniciales\n",
    "u= f(x) #funcion de onda en el dominio espacial\n",
    "w =\n"
   ]
  }
 ],
 "metadata": {
  "kernelspec": {
   "display_name": "Python 3",
   "language": "python",
   "name": "python3"
  },
  "language_info": {
   "codemirror_mode": {
    "name": "ipython",
    "version": 3
   },
   "file_extension": ".py",
   "mimetype": "text/x-python",
   "name": "python",
   "nbconvert_exporter": "python",
   "pygments_lexer": "ipython3",
   "version": "3.8.5"
  },
  "varInspector": {
   "cols": {
    "lenName": 16,
    "lenType": 16,
    "lenVar": 40
   },
   "kernels_config": {
    "python": {
     "delete_cmd_postfix": "",
     "delete_cmd_prefix": "del ",
     "library": "var_list.py",
     "varRefreshCmd": "print(var_dic_list())"
    },
    "r": {
     "delete_cmd_postfix": ") ",
     "delete_cmd_prefix": "rm(",
     "library": "var_list.r",
     "varRefreshCmd": "cat(var_dic_list()) "
    }
   },
   "types_to_exclude": [
    "module",
    "function",
    "builtin_function_or_method",
    "instance",
    "_Feature"
   ],
   "window_display": false
  }
 },
 "nbformat": 4,
 "nbformat_minor": 4
}
