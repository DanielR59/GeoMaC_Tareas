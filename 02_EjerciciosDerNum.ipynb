{
 "cells": [
  {
   "cell_type": "markdown",
   "metadata": {},
   "source": [
    "# Ejercicios: Derivadas Numéricas\n",
    "\n",
    "## Geofísica Matemática y Computacional\n",
    "- Prof. Luis Miguel de la Cruz Salas\n",
    "- Rev: mié oct 14 19:08:02 CDT 2020"
   ]
  },
  {
   "cell_type": "markdown",
   "metadata": {},
   "source": [
    "- Nombre del alumno: Rosas Avila José Daniel"
   ]
  },
  {
   "cell_type": "code",
   "execution_count": 1,
   "metadata": {},
   "outputs": [],
   "source": [
    "import numpy as np\n",
    "import pandas as pd\n",
    "import matplotlib.pyplot as plt\n",
    "%matplotlib inline"
   ]
  },
  {
   "cell_type": "markdown",
   "metadata": {},
   "source": [
    "# Masa y densidad\n",
    "\n",
    "Don Nacho, un experimentado maestro albañil, necesita cortar una varilla de metal en varias secciones para construir una escalera. Realiza las marcas de la varilla y se ven como en la siguiente figura:\n",
    "\n",
    "<img src=\"../Figuras/secciones.png\">\n"
   ]
  },
  {
   "cell_type": "markdown",
   "metadata": {},
   "source": [
    "Como se observa, el tamaño de cada sección de la varilla es de 0.5 m. Por razones de la estructura, se necesita conocer el peso de cada sección de la varilla para evitar que la escalera se derrumbe. Don Nacho hizo los cortes y pesó cada sección, obteniendo los siguientes resultados:\n",
    "\n",
    "| Sección | 1 | 2 | 3 | 4 | 5 | 6 | 7 | 8 |\n",
    "|---|---|---|---|---|---|---|---|---|\n",
    "| Masa [Kg] | 0.595 | 0.806 | 0.369 | 1.078 | 1.704 | 1.475 | 2.263 |  3.282 |\n",
    "\n",
    "## Ejercicio 1.\n",
    "Construya dos arreglos de numpy: uno para almacenar las marcas de las secciones de nombre `secciones` y otro que se llame `masas_sec` para almacenar las masas de cada sección. Haga una gráfica de barras de las masas de cada sección.\n",
    "\n",
    "**Hint**:\n",
    "\n",
    "```python\n",
    "# Marcas sobre la varilla de cada sección\n",
    "secciones = np.array([0.0, 0.5, 1.0, 1.5, 2.0, 2.5, 3.0, 3.5,  4.0]) \n",
    "\n",
    "# Peso de cada sección [kg]\n",
    "masas_sec = np.array([0.595, 0.806, 0.369, 1.078, 1.704, \n",
    "                      1.475, 2.263,  3.282])\n",
    "\n",
    "plt.bar( ... )\n",
    "```"
   ]
  },
  {
   "cell_type": "code",
   "execution_count": 2,
   "metadata": {},
   "outputs": [
    {
     "data": {
      "text/plain": [
       "<BarContainer object of 8 artists>"
      ]
     },
     "execution_count": 2,
     "metadata": {},
     "output_type": "execute_result"
    },
    {
     "data": {
      "image/png": "[encoded data removed]",
      "text/plain": [
       "<Figure size 432x288 with 1 Axes>"
      ]
     },
     "metadata": {
      "needs_background": "light"
     },
     "output_type": "display_data"
    }
   ],
   "source": [
    "# Escriba su código\n",
    "# Marcas sobre la varilla de cada sección\n",
    "secciones = np.array([0.0, 0.5, 1.0, 1.5, 2.0, 2.5, 3.0, 3.5,4.0]) \n",
    "\n",
    "# Peso de cada sección [kg]\n",
    "masas_sec = np.array([0.595, 0.806, 0.369, 1.078, 1.704, \n",
    "                      1.475, 2.263,  3.282])\n",
    "\n",
    "plt.bar(secciones[1:],masas_sec,width=0.1,color='g',label='Peso de cada seccion de varilla' )\n"
   ]
  },
  {
   "cell_type": "markdown",
   "metadata": {},
   "source": [
    "## Ejercicio 2.\n",
    "El peso se puede ir acumulando para obtener el peso original de la varilla. El código siguiente hace esa acumulación y guarda la información en el arreglo `masa` de numpy:\n",
    "\n",
    "```python\n",
    "masa = np.zeros(len(secciones))\n",
    "for i, ms in enumerate(masas_sec):\n",
    "    masa[i+1] = masa[i] + ms\n",
    "```\n",
    "\n",
    "Escriba el código anterior y después grafique el contenido del arreglo `masa` sobre la gráfica de barras anterior."
   ]
  },
  {
   "cell_type": "code",
   "execution_count": 3,
   "metadata": {},
   "outputs": [
    {
     "data": {
      "text/plain": [
       "<BarContainer object of 8 artists>"
      ]
     },
     "execution_count": 3,
     "metadata": {},
     "output_type": "execute_result"
    },
    {
     "data": {
      "image/png": "[encoded data removed]",
      "text/plain": [
       "<Figure size 432x288 with 1 Axes>"
      ]
     },
     "metadata": {
      "needs_background": "light"
     },
     "output_type": "display_data"
    }
   ],
   "source": [
    "# Escriba su código\n",
    "masa = np.zeros(len(secciones))\n",
    "for i, ms in enumerate(masas_sec):\n",
    "    masa[i+1] = masa[i] + ms\n",
    "\n",
    "\n",
    "plt.plot(secciones,masa)\n",
    "plt.bar(secciones[1:],masas_sec,width=0.1,color='g',label='Peso de cada seccion de varilla' )\n"
   ]
  },
  {
   "cell_type": "markdown",
   "metadata": {},
   "source": [
    "## Ejercicio 3.\n",
    "Si todo se hizo correctamente, se verá que el peso no crece linealmente. Se sospecha que la densidad de la varilla no cambia homogéneamente en toda su longitud. Suponemos que todo está en una dimensión, de tal manera que podemos definir una densidad *lineal* de la siguiente manera:\n",
    "\n",
    "$$\n",
    "\\rho(x) = \\frac{\\text{Masa}}{Longitud} = \\frac{m}{l}\n",
    "$$\n",
    "\n",
    "Recordemos que la masa es una **propiedad extensiva**: es directamente proporcional al tamaño del sistema o a la cantidad de material, mientras que la densidad es una **propiedad intensiva**: no depende del tamaño del sistema, es invariante a la escala.\n",
    "\n",
    "Si observamos con atención, esta densidad se puede calcular por cada sección, vea la figura:\n",
    "\n",
    "<img src=\"../Figuras/secciones_mi.png\">\n",
    "\n",
    "\n",
    "$\\rho_i = \\dfrac{m_i}{l_i}$ para $i = 0,1,2, \\dots$ donde $m_i$ es la masa de la sección y $l_i$ su longitud.\n",
    "\n",
    "Si observamos con más atención, la densidad de la sección $i$ se puede obtener mediante la siguiente aproximación:\n",
    "\n",
    "$\\rho_i \\approx \\dfrac{m_{i} - m_{i-1}}{l_{i} - l_{i-1}} = \\dfrac{m_{i} - m_{i-1}}{\\delta l_{i}} $\n",
    "\n",
    "La fórmula anterior, cuando $\\delta l_{i} \\to 0$, representa una derivada:\n",
    "\n",
    "$\\displaystyle\n",
    "\\rho_i = \\lim_{\\delta l_{i} \\to 0} \\dfrac{m_{i} - m_{i-1}}{\\delta l_{i}} = \\dfrac{d}{d x}\\Big(m (x)\\Big)\n",
    "$\n",
    "\n",
    "Escriba una función para calcular la densidad de la barra para cada sección usando la aproximación anterior. Grafique la masa y la densidad en una sola figura."
   ]
  },
  {
   "cell_type": "code",
   "execution_count": 35,
   "metadata": {},
   "outputs": [
    {
     "data": {
      "image/png": "[encoded data removed]",
      "text/plain": [
       "<Figure size 432x288 with 1 Axes>"
      ]
     },
     "metadata": {
      "needs_background": "light"
     },
     "output_type": "display_data"
    }
   ],
   "source": [
    "# Escriba su código\n",
    "def calcdensidad(masa,secciones):\n",
    "    \n",
    "    h=len(masa) \n",
    "    densidad=[]\n",
    "    for i in range(1,h):\n",
    "        #se omite el elemento 0 debido a que en ese punto no existe i-1\n",
    "        densidad.append((masa[i]-masa[i-1])/(secciones[i]-secciones[i-1]))\n",
    "\n",
    "    return densidad                    \n",
    "\n",
    "densidad=calcdensidad(masa,secciones)\n",
    "plt.plot(secciones,masa,'ro-',label='masa')\n",
    "plt.plot(secciones[1:],densidad,'sg-',label='densidad')\n",
    "plt.xlabel('Longitud')\n",
    "plt.ylabel('Peso')\n",
    "plt.legend()\n",
    "plt.show()"
   ]
  },
  {
   "cell_type": "markdown",
   "metadata": {},
   "source": [
    "## Ejercicio 3.\n",
    "Después de una búsqueda sobre las especificaciones de la varilla, se encuentra que la densidad está dada por siguiente fórmula:\n",
    "\n",
    "$\\rho = (1000 x^2 + 5000 \\sin(2x)^2 ) \\times A$\n",
    "\n",
    "donde $x$ es la posición en la varilla y $A$ es el área transversal. Al medir el diámetro de la varilla se encuentra el valor de $d = 0.02$ m , por lo tanto el radio es $r = 0.01$ m.\n",
    "\n",
    "Grafique está fórmula y cómparela con los cálculos aproximados que hicimos antes:"
   ]
  },
  {
   "cell_type": "code",
   "execution_count": 57,
   "metadata": {},
   "outputs": [
    {
     "data": {
      "image/png": "[encoded data removed]",
      "text/plain": [
       "<Figure size 432x288 with 1 Axes>"
      ]
     },
     "metadata": {
      "needs_background": "light"
     },
     "output_type": "display_data"
    }
   ],
   "source": [
    "# Escriba su código\n",
    "densidad2= lambda x, A: (1000*x**2+5000*np.sin(2*x)**2)*A\n",
    "r=0.01\n",
    "A=np.pi*r**2\n",
    "\n",
    "rho=densidad2(secciones,A)\n",
    "\n",
    "plt.plot(secciones,rho, 'go-',label='formula')\n",
    "plt.plot(secciones[1:],densidad, 'bs--',label='aproximación mediante la derivada')\n",
    "plt.xlabel('Longitud')\n",
    "plt.ylabel('Densidad')\n",
    "plt.legend()\n",
    "plt.show()"
   ]
  },
  {
   "cell_type": "markdown",
   "metadata": {},
   "source": [
    "## Ejercicio 4.\n",
    "Para evaluar la aproximación, cálcule el error absoluto y el error relativo para cada punto.\n"
   ]
  },
  {
   "cell_type": "code",
   "execution_count": 80,
   "metadata": {},
   "outputs": [
    {
     "data": {
      "text/html": [
       "<div>\n",
       "<style scoped>\n",
       "    .dataframe tbody tr th:only-of-type {\n",
       "        vertical-align: middle;\n",
       "    }\n",
       "\n",
       "    .dataframe tbody tr th {\n",
       "        vertical-align: top;\n",
       "    }\n",
       "\n",
       "    .dataframe thead th {\n",
       "        text-align: right;\n",
       "    }\n",
       "</style>\n",
       "<table border=\"1\" class=\"dataframe\">\n",
       "  <thead>\n",
       "    <tr style=\"text-align: right;\">\n",
       "      <th></th>\n",
       "      <th>$\\rho$</th>\n",
       "      <th>densidad</th>\n",
       "      <th>$E_{abs}$</th>\n",
       "      <th>$E_{rel}$</th>\n",
       "    </tr>\n",
       "  </thead>\n",
       "  <tbody>\n",
       "    <tr>\n",
       "      <th>0</th>\n",
       "      <td>1.190779</td>\n",
       "      <td>1.190</td>\n",
       "      <td>0.000779</td>\n",
       "      <td>0.000654</td>\n",
       "    </tr>\n",
       "    <tr>\n",
       "      <th>1</th>\n",
       "      <td>1.612928</td>\n",
       "      <td>1.612</td>\n",
       "      <td>0.000928</td>\n",
       "      <td>0.000575</td>\n",
       "    </tr>\n",
       "    <tr>\n",
       "      <th>2</th>\n",
       "      <td>0.738141</td>\n",
       "      <td>0.738</td>\n",
       "      <td>0.000141</td>\n",
       "      <td>0.000190</td>\n",
       "    </tr>\n",
       "    <tr>\n",
       "      <th>3</th>\n",
       "      <td>2.156311</td>\n",
       "      <td>2.156</td>\n",
       "      <td>0.000311</td>\n",
       "      <td>0.000144</td>\n",
       "    </tr>\n",
       "    <tr>\n",
       "      <th>4</th>\n",
       "      <td>3.407899</td>\n",
       "      <td>3.408</td>\n",
       "      <td>0.000101</td>\n",
       "      <td>0.000030</td>\n",
       "    </tr>\n",
       "    <tr>\n",
       "      <th>5</th>\n",
       "      <td>2.950070</td>\n",
       "      <td>2.950</td>\n",
       "      <td>0.000070</td>\n",
       "      <td>0.000024</td>\n",
       "    </tr>\n",
       "    <tr>\n",
       "      <th>6</th>\n",
       "      <td>4.526456</td>\n",
       "      <td>4.526</td>\n",
       "      <td>0.000456</td>\n",
       "      <td>0.000101</td>\n",
       "    </tr>\n",
       "    <tr>\n",
       "      <th>7</th>\n",
       "      <td>6.564090</td>\n",
       "      <td>6.564</td>\n",
       "      <td>0.000090</td>\n",
       "      <td>0.000014</td>\n",
       "    </tr>\n",
       "  </tbody>\n",
       "</table>\n",
       "</div>"
      ],
      "text/plain": [
       "     $\\rho$  densidad  $E_{abs}$  $E_{rel}$\n",
       "0  1.190779     1.190   0.000779   0.000654\n",
       "1  1.612928     1.612   0.000928   0.000575\n",
       "2  0.738141     0.738   0.000141   0.000190\n",
       "3  2.156311     2.156   0.000311   0.000144\n",
       "4  3.407899     3.408   0.000101   0.000030\n",
       "5  2.950070     2.950   0.000070   0.000024\n",
       "6  4.526456     4.526   0.000456   0.000101\n",
       "7  6.564090     6.564   0.000090   0.000014"
      ]
     },
     "execution_count": 80,
     "metadata": {},
     "output_type": "execute_result"
    }
   ],
   "source": [
    "Ea = lambda e, a: np.fabs(e - a)\n",
    "Er = lambda e, a: np.fabs(e - a) / np.fabs(e)\n",
    "\n",
    "# Escriba su código\n",
    "Eabs=Ea(rho[1:],densidad)\n",
    "Erel=Er(rho[1:],densidad)\n",
    "pd.DataFrame(np.array([rho[1:],densidad,Eabs,Erel]).transpose(),columns=['$\\rho$','densidad','$E_{abs}$','$E_{rel}$'])"
   ]
  },
  {
   "cell_type": "markdown",
   "metadata": {},
   "source": [
    "## Ejercicio 5.\n",
    "Calcule la integral de la densidad\n",
    "\n",
    "$\\rho = (1000 x^2 + 5000 \\sin(2x)^2 ) \\times A$\n",
    "\n",
    "para encontrar la fórmula de la masa $m(x)$.\n",
    "\n",
    "Después realice todas las graficas de tal manera que obtenga una figura como la siguiente:\n",
    "\n",
    "<img src=\"../Figuras/tresgraficas.png\">\n",
    "\n",
    "**Hint**: Para calcular la integral puede usar sympy, por ejemplo:\n",
    "```python\n",
    "from sympy import Symbol, integrate, sin\n",
    "x = Symbol('x')\n",
    "integrate(sin(2x)**2, x)\n",
    "```\n",
    "Utilice la función `subplots()` de matplotlib para crear varias gráficas en una sola figura, por ejemplo:\n",
    "\n",
    "```python\n",
    "fig, axs = plt.subplots(1,2,figsize=(15,5))\n",
    "axs[0].plot(x, m, 'C0--', label = 'Gráfica 1')\n",
    "axs[1].plot(x, d, 'C1-', label= 'Gráfica 2')\n",
    "plt.show()\n",
    "```"
   ]
  },
  {
   "cell_type": "code",
   "execution_count": 88,
   "metadata": {},
   "outputs": [
    {
     "data": {
      "text/latex": [
       "$\\displaystyle \\frac{1000 x^{3}}{3} + 2500 x - 1250 \\sin{\\left(2 x \\right)} \\cos{\\left(2 x \\right)}$"
      ],
      "text/plain": [
       "1000*x**3/3 + 2500*x - 1250*sin(2*x)*cos(2*x)"
      ]
     },
     "execution_count": 88,
     "metadata": {},
     "output_type": "execute_result"
    }
   ],
   "source": [
    "# Escriba su código\n",
    "from sympy import Symbol, integrate, sin\n",
    "x = Symbol('x')\n",
    "integrate(1000*x**2+5000*sin(2*x)**2, x)\n"
   ]
  },
  {
   "cell_type": "code",
   "execution_count": 92,
   "metadata": {},
   "outputs": [],
   "source": [
    "\n",
    "masa_integral = lambda x,A: ((1000*x**3)/3+2500*x-1250*np.sin(2*x)*np.cos(2*x))*A\n",
    "\n",
    "masita=masa_integral(secciones,A)\n"
   ]
  },
  {
   "cell_type": "code",
   "execution_count": 95,
   "metadata": {},
   "outputs": [
    {
     "data": {
      "image/png": "[encoded data removed]",
      "text/plain": [
       "<Figure size 1080x360 with 2 Axes>"
      ]
     },
     "metadata": {
      "needs_background": "light"
     },
     "output_type": "display_data"
    }
   ],
   "source": [
    "fig, axs = plt.subplots(1,2,figsize=(15,5))\n",
    "axs[0].plot(secciones, masita, 'C0--', label = 'Gráfica 1')\n",
    "axs[1].plot(secciones[1:], masas_sec, 'C1-', label= 'Gráfica 2')\n",
    "plt.show()"
   ]
  }
 ],
 "metadata": {
  "kernelspec": {
   "display_name": "Python 3",
   "language": "python",
   "name": "python3"
  },
  "language_info": {
   "codemirror_mode": {
    "name": "ipython",
    "version": 3
   },
   "file_extension": ".py",
   "mimetype": "text/x-python",
   "name": "python",
   "nbconvert_exporter": "python",
   "pygments_lexer": "ipython3",
   "version": "3.8.0"
  },
  "varInspector": {
   "cols": {
    "lenName": 16,
    "lenType": 16,
    "lenVar": 40
   },
   "kernels_config": {
    "python": {
     "delete_cmd_postfix": "",
     "delete_cmd_prefix": "del ",
     "library": "var_list.py",
     "varRefreshCmd": "print(var_dic_list())"
    },
    "r": {
     "delete_cmd_postfix": ") ",
     "delete_cmd_prefix": "rm(",
     "library": "var_list.r",
     "varRefreshCmd": "cat(var_dic_list()) "
    }
   },
   "types_to_exclude": [
    "module",
    "function",
    "builtin_function_or_method",
    "instance",
    "_Feature"
   ],
   "window_display": false
  }
 },
 "nbformat": 4,
 "nbformat_minor": 4
}
